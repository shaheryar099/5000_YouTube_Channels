{
 "cells": [
  {
   "cell_type": "code",
   "execution_count": 1,
   "id": "b6c747f1-9bdf-4bf7-a0c3-3d0eb384d5ab",
   "metadata": {},
   "outputs": [],
   "source": [
    "import pandas as pd\n",
    "import numpy as np\n",
    "import matplotlib.pyplot as plt\n",
    "import seaborn as sns\n",
    "import warnings\n",
    "warnings.filterwarnings('ignore')"
   ]
  },
  {
   "cell_type": "markdown",
   "id": "c29c0124-f696-4995-9a97-04b499a7cb48",
   "metadata": {},
   "source": [
    "### Dataset link: https://www.kaggle.com/datasets/rahuldogra/top5000youtubechannels "
   ]
  },
  {
   "cell_type": "code",
   "execution_count": 2,
   "id": "3f129608-22e6-4bc2-8053-58cc7e8b9212",
   "metadata": {},
   "outputs": [
    {
     "data": {
      "text/html": [
       "<div>\n",
       "<style scoped>\n",
       "    .dataframe tbody tr th:only-of-type {\n",
       "        vertical-align: middle;\n",
       "    }\n",
       "\n",
       "    .dataframe tbody tr th {\n",
       "        vertical-align: top;\n",
       "    }\n",
       "\n",
       "    .dataframe thead th {\n",
       "        text-align: right;\n",
       "    }\n",
       "</style>\n",
       "<table border=\"1\" class=\"dataframe\">\n",
       "  <thead>\n",
       "    <tr style=\"text-align: right;\">\n",
       "      <th></th>\n",
       "      <th>Rank</th>\n",
       "      <th>Grade</th>\n",
       "      <th>Channel name</th>\n",
       "      <th>Video Uploads</th>\n",
       "      <th>Subscribers</th>\n",
       "      <th>Video views</th>\n",
       "    </tr>\n",
       "  </thead>\n",
       "  <tbody>\n",
       "    <tr>\n",
       "      <th>0</th>\n",
       "      <td>1st</td>\n",
       "      <td>A++</td>\n",
       "      <td>Zee TV</td>\n",
       "      <td>82757</td>\n",
       "      <td>18752951</td>\n",
       "      <td>20869786591</td>\n",
       "    </tr>\n",
       "    <tr>\n",
       "      <th>1</th>\n",
       "      <td>2nd</td>\n",
       "      <td>A++</td>\n",
       "      <td>T-Series</td>\n",
       "      <td>12661</td>\n",
       "      <td>61196302</td>\n",
       "      <td>47548839843</td>\n",
       "    </tr>\n",
       "    <tr>\n",
       "      <th>2</th>\n",
       "      <td>3rd</td>\n",
       "      <td>A++</td>\n",
       "      <td>Cocomelon - Nursery Rhymes</td>\n",
       "      <td>373</td>\n",
       "      <td>19238251</td>\n",
       "      <td>9793305082</td>\n",
       "    </tr>\n",
       "    <tr>\n",
       "      <th>3</th>\n",
       "      <td>4th</td>\n",
       "      <td>A++</td>\n",
       "      <td>SET India</td>\n",
       "      <td>27323</td>\n",
       "      <td>31180559</td>\n",
       "      <td>22675948293</td>\n",
       "    </tr>\n",
       "    <tr>\n",
       "      <th>4</th>\n",
       "      <td>5th</td>\n",
       "      <td>A++</td>\n",
       "      <td>WWE</td>\n",
       "      <td>36756</td>\n",
       "      <td>32852346</td>\n",
       "      <td>26273668433</td>\n",
       "    </tr>\n",
       "  </tbody>\n",
       "</table>\n",
       "</div>"
      ],
      "text/plain": [
       "  Rank Grade                Channel name Video Uploads Subscribers  \\\n",
       "0  1st  A++                       Zee TV         82757    18752951   \n",
       "1  2nd  A++                     T-Series         12661    61196302   \n",
       "2  3rd  A++   Cocomelon - Nursery Rhymes           373    19238251   \n",
       "3  4th  A++                    SET India         27323    31180559   \n",
       "4  5th  A++                          WWE         36756    32852346   \n",
       "\n",
       "   Video views  \n",
       "0  20869786591  \n",
       "1  47548839843  \n",
       "2   9793305082  \n",
       "3  22675948293  \n",
       "4  26273668433  "
      ]
     },
     "execution_count": 2,
     "metadata": {},
     "output_type": "execute_result"
    }
   ],
   "source": [
    "df = pd.read_csv(r'C:\\Users\\Admin\\Desktop\\Python\\Project\\YouTube Channels\\top-5000-youtube-channels.csv') #Importing data\n",
    "df.head() #showing top 5 rows"
   ]
  },
  {
   "cell_type": "code",
   "execution_count": 3,
   "id": "f357a563-22a2-4879-acaf-d2bb23943bb6",
   "metadata": {},
   "outputs": [
    {
     "data": {
      "text/plain": [
       "(5000, 6)"
      ]
     },
     "execution_count": 3,
     "metadata": {},
     "output_type": "execute_result"
    }
   ],
   "source": [
    "df.shape #checking shape of the data"
   ]
  },
  {
   "cell_type": "code",
   "execution_count": 4,
   "id": "f55832b0-d31e-4762-98f0-6bb6995ed0f7",
   "metadata": {},
   "outputs": [
    {
     "data": {
      "text/plain": [
       "np.int64(0)"
      ]
     },
     "execution_count": 4,
     "metadata": {},
     "output_type": "execute_result"
    }
   ],
   "source": [
    "df.duplicated().sum() #checking duplocates"
   ]
  },
  {
   "cell_type": "code",
   "execution_count": 5,
   "id": "b362dbc6-1c71-4c1f-9fc6-55c0f852daa5",
   "metadata": {},
   "outputs": [
    {
     "data": {
      "text/plain": [
       "Rank             0\n",
       "Grade            0\n",
       "Channel name     0\n",
       "Video Uploads    0\n",
       "Subscribers      0\n",
       "Video views      0\n",
       "dtype: int64"
      ]
     },
     "execution_count": 5,
     "metadata": {},
     "output_type": "execute_result"
    }
   ],
   "source": [
    "df.isnull().sum() #Checking null values"
   ]
  },
  {
   "cell_type": "code",
   "execution_count": 6,
   "id": "c40fb6c9-2812-47f8-86b8-68fd00e4eecf",
   "metadata": {},
   "outputs": [
    {
     "data": {
      "text/plain": [
       "Rank             object\n",
       "Grade            object\n",
       "Channel name     object\n",
       "Video Uploads    object\n",
       "Subscribers      object\n",
       "Video views       int64\n",
       "dtype: object"
      ]
     },
     "execution_count": 6,
     "metadata": {},
     "output_type": "execute_result"
    }
   ],
   "source": [
    "df.dtypes #checking data types of each columns"
   ]
  },
  {
   "cell_type": "markdown",
   "id": "16680e0c-fd9a-429c-a3ce-6c6be31b6bbc",
   "metadata": {},
   "source": [
    "### Columns name \"Video Uploads\" & \"Subscribers\" data types are object but they should be integer"
   ]
  },
  {
   "cell_type": "code",
   "execution_count": 7,
   "id": "49977330-f6a9-4fb5-ac0c-978cdb236971",
   "metadata": {},
   "outputs": [
    {
     "name": "stdout",
     "output_type": "stream",
     "text": [
      "<class 'pandas.core.frame.DataFrame'>\n",
      "RangeIndex: 5000 entries, 0 to 4999\n",
      "Data columns (total 6 columns):\n",
      " #   Column         Non-Null Count  Dtype  \n",
      "---  ------         --------------  -----  \n",
      " 0   Rank           5000 non-null   object \n",
      " 1   Grade          5000 non-null   object \n",
      " 2   Channel name   5000 non-null   object \n",
      " 3   Video Uploads  4994 non-null   float64\n",
      " 4   Subscribers    4613 non-null   float64\n",
      " 5   Video views    5000 non-null   int64  \n",
      "dtypes: float64(2), int64(1), object(3)\n",
      "memory usage: 234.5+ KB\n"
     ]
    }
   ],
   "source": [
    "#df['Video Uploads'] = df['Video Uploads'].replace('--',np.nan)\n",
    "#df['Video Uploads'] = df['Video Uploads'].astype('float')\n",
    "#df['Subscribers'] = df['Subscribers'].replace('-- ',np.nan)\n",
    "#df['Subscribers'] = df['Subscribers'].astype('float')\n",
    "df['Video Uploads'] = pd.to_numeric(df['Video Uploads'], errors='coerce') #converting string to numeric\n",
    "df['Subscribers'] = pd.to_numeric(df['Subscribers'], errors='coerce') #converting string numeric\n",
    "df.info()"
   ]
  },
  {
   "cell_type": "code",
   "execution_count": 8,
   "id": "6af9733c-c2ba-4b83-9348-20a3d862632d",
   "metadata": {},
   "outputs": [
    {
     "data": {
      "text/plain": [
       "Rank               0\n",
       "Grade              0\n",
       "Channel name       0\n",
       "Video Uploads      6\n",
       "Subscribers      387\n",
       "Video views        0\n",
       "dtype: int64"
      ]
     },
     "execution_count": 8,
     "metadata": {},
     "output_type": "execute_result"
    }
   ],
   "source": [
    "df.isnull().sum() #Checking null values"
   ]
  },
  {
   "cell_type": "code",
   "execution_count": 9,
   "id": "11835a66-d235-4fc5-911c-cffc71e0ed63",
   "metadata": {},
   "outputs": [
    {
     "data": {
      "text/plain": [
       "Rank             0.00\n",
       "Grade            0.00\n",
       "Channel name     0.00\n",
       "Video Uploads    0.12\n",
       "Subscribers      7.74\n",
       "Video views      0.00\n",
       "dtype: float64"
      ]
     },
     "execution_count": 9,
     "metadata": {},
     "output_type": "execute_result"
    }
   ],
   "source": [
    "per_of_null_value = df.isnull().sum()*100/len(df) #checking percentage of null values\n",
    "per_of_null_value"
   ]
  },
  {
   "cell_type": "code",
   "execution_count": 10,
   "id": "c8584472-c4cc-4de0-8a14-99f8a393a895",
   "metadata": {
    "scrolled": true
   },
   "outputs": [
    {
     "data": {
      "text/html": [
       "<div>\n",
       "<style scoped>\n",
       "    .dataframe tbody tr th:only-of-type {\n",
       "        vertical-align: middle;\n",
       "    }\n",
       "\n",
       "    .dataframe tbody tr th {\n",
       "        vertical-align: top;\n",
       "    }\n",
       "\n",
       "    .dataframe thead th {\n",
       "        text-align: right;\n",
       "    }\n",
       "</style>\n",
       "<table border=\"1\" class=\"dataframe\">\n",
       "  <thead>\n",
       "    <tr style=\"text-align: right;\">\n",
       "      <th></th>\n",
       "      <th>Rank</th>\n",
       "      <th>Grade</th>\n",
       "      <th>Channel name</th>\n",
       "      <th>Video Uploads</th>\n",
       "      <th>Subscribers</th>\n",
       "      <th>Video views</th>\n",
       "    </tr>\n",
       "  </thead>\n",
       "  <tbody>\n",
       "    <tr>\n",
       "      <th>267</th>\n",
       "      <td>268th</td>\n",
       "      <td></td>\n",
       "      <td>MidnightXChannel</td>\n",
       "      <td>NaN</td>\n",
       "      <td>NaN</td>\n",
       "      <td>190256974</td>\n",
       "    </tr>\n",
       "    <tr>\n",
       "      <th>517</th>\n",
       "      <td>518th</td>\n",
       "      <td></td>\n",
       "      <td>Dusama Pets TV</td>\n",
       "      <td>NaN</td>\n",
       "      <td>NaN</td>\n",
       "      <td>91601494</td>\n",
       "    </tr>\n",
       "    <tr>\n",
       "      <th>2323</th>\n",
       "      <td>2,324th</td>\n",
       "      <td></td>\n",
       "      <td>Random</td>\n",
       "      <td>NaN</td>\n",
       "      <td>12275.0</td>\n",
       "      <td>17897584</td>\n",
       "    </tr>\n",
       "    <tr>\n",
       "      <th>3072</th>\n",
       "      <td>3,073rd</td>\n",
       "      <td></td>\n",
       "      <td>Boram Tube Toy Shcool [보람튜브…</td>\n",
       "      <td>NaN</td>\n",
       "      <td>726527.0</td>\n",
       "      <td>205555289</td>\n",
       "    </tr>\n",
       "    <tr>\n",
       "      <th>3247</th>\n",
       "      <td>3,248th</td>\n",
       "      <td></td>\n",
       "      <td>atheer sultan</td>\n",
       "      <td>NaN</td>\n",
       "      <td>NaN</td>\n",
       "      <td>79663674</td>\n",
       "    </tr>\n",
       "    <tr>\n",
       "      <th>4898</th>\n",
       "      <td>4,899th</td>\n",
       "      <td></td>\n",
       "      <td>ExzoticSlice</td>\n",
       "      <td>NaN</td>\n",
       "      <td>99785.0</td>\n",
       "      <td>9745292</td>\n",
       "    </tr>\n",
       "  </tbody>\n",
       "</table>\n",
       "</div>"
      ],
      "text/plain": [
       "         Rank Grade                  Channel name  Video Uploads  Subscribers  \\\n",
       "267     268th                    MidnightXChannel            NaN          NaN   \n",
       "517     518th                      Dusama Pets TV            NaN          NaN   \n",
       "2323  2,324th                              Random            NaN      12275.0   \n",
       "3072  3,073rd        Boram Tube Toy Shcool [보람튜브…            NaN     726527.0   \n",
       "3247  3,248th                       atheer sultan            NaN          NaN   \n",
       "4898  4,899th                        ExzoticSlice            NaN      99785.0   \n",
       "\n",
       "      Video views  \n",
       "267     190256974  \n",
       "517      91601494  \n",
       "2323     17897584  \n",
       "3072    205555289  \n",
       "3247     79663674  \n",
       "4898      9745292  "
      ]
     },
     "execution_count": 10,
     "metadata": {},
     "output_type": "execute_result"
    }
   ],
   "source": [
    "df[df['Video Uploads'].isnull()] #Showing null columns and row of \"Video Uploads\""
   ]
  },
  {
   "cell_type": "code",
   "execution_count": 11,
   "id": "548f40cc-f26c-422a-be67-ecd55f0ec9e2",
   "metadata": {},
   "outputs": [],
   "source": [
    "df['Video Uploads'] = df['Video Uploads'].fillna(0) #filling null values with 0"
   ]
  },
  {
   "cell_type": "code",
   "execution_count": 12,
   "id": "e3164622-170f-4a90-93f0-33cb7563e018",
   "metadata": {
    "scrolled": true
   },
   "outputs": [
    {
     "data": {
      "text/html": [
       "<div>\n",
       "<style scoped>\n",
       "    .dataframe tbody tr th:only-of-type {\n",
       "        vertical-align: middle;\n",
       "    }\n",
       "\n",
       "    .dataframe tbody tr th {\n",
       "        vertical-align: top;\n",
       "    }\n",
       "\n",
       "    .dataframe thead th {\n",
       "        text-align: right;\n",
       "    }\n",
       "</style>\n",
       "<table border=\"1\" class=\"dataframe\">\n",
       "  <thead>\n",
       "    <tr style=\"text-align: right;\">\n",
       "      <th></th>\n",
       "      <th>Rank</th>\n",
       "      <th>Grade</th>\n",
       "      <th>Channel name</th>\n",
       "      <th>Video Uploads</th>\n",
       "      <th>Subscribers</th>\n",
       "      <th>Video views</th>\n",
       "    </tr>\n",
       "  </thead>\n",
       "  <tbody>\n",
       "    <tr>\n",
       "      <th>17</th>\n",
       "      <td>18th</td>\n",
       "      <td>A+</td>\n",
       "      <td>Vlad and Nikita</td>\n",
       "      <td>53.0</td>\n",
       "      <td>NaN</td>\n",
       "      <td>1428274554</td>\n",
       "    </tr>\n",
       "    <tr>\n",
       "      <th>108</th>\n",
       "      <td>109th</td>\n",
       "      <td>A</td>\n",
       "      <td>BIGFUN</td>\n",
       "      <td>373.0</td>\n",
       "      <td>NaN</td>\n",
       "      <td>941376171</td>\n",
       "    </tr>\n",
       "    <tr>\n",
       "      <th>115</th>\n",
       "      <td>116th</td>\n",
       "      <td>A</td>\n",
       "      <td>Bee Kids Games - Children TV</td>\n",
       "      <td>740.0</td>\n",
       "      <td>NaN</td>\n",
       "      <td>414535723</td>\n",
       "    </tr>\n",
       "    <tr>\n",
       "      <th>142</th>\n",
       "      <td>143rd</td>\n",
       "      <td>A</td>\n",
       "      <td>ChiChi TV Siêu Nhân</td>\n",
       "      <td>421.0</td>\n",
       "      <td>NaN</td>\n",
       "      <td>2600394871</td>\n",
       "    </tr>\n",
       "    <tr>\n",
       "      <th>143</th>\n",
       "      <td>144th</td>\n",
       "      <td>A</td>\n",
       "      <td>MusicTalentNow</td>\n",
       "      <td>1487.0</td>\n",
       "      <td>NaN</td>\n",
       "      <td>3252752212</td>\n",
       "    </tr>\n",
       "    <tr>\n",
       "      <th>...</th>\n",
       "      <td>...</td>\n",
       "      <td>...</td>\n",
       "      <td>...</td>\n",
       "      <td>...</td>\n",
       "      <td>...</td>\n",
       "      <td>...</td>\n",
       "    </tr>\n",
       "    <tr>\n",
       "      <th>4941</th>\n",
       "      <td>4,942nd</td>\n",
       "      <td>B+</td>\n",
       "      <td>GMTV</td>\n",
       "      <td>183.0</td>\n",
       "      <td>NaN</td>\n",
       "      <td>127080542</td>\n",
       "    </tr>\n",
       "    <tr>\n",
       "      <th>4948</th>\n",
       "      <td>4,949th</td>\n",
       "      <td>B+</td>\n",
       "      <td>Keivon ToysReview</td>\n",
       "      <td>468.0</td>\n",
       "      <td>NaN</td>\n",
       "      <td>481568513</td>\n",
       "    </tr>\n",
       "    <tr>\n",
       "      <th>4956</th>\n",
       "      <td>4,957th</td>\n",
       "      <td>B+</td>\n",
       "      <td>CLICKNEWS</td>\n",
       "      <td>2661.0</td>\n",
       "      <td>NaN</td>\n",
       "      <td>139940815</td>\n",
       "    </tr>\n",
       "    <tr>\n",
       "      <th>4961</th>\n",
       "      <td>4,962nd</td>\n",
       "      <td>B+</td>\n",
       "      <td>ONE Championship</td>\n",
       "      <td>905.0</td>\n",
       "      <td>NaN</td>\n",
       "      <td>109836654</td>\n",
       "    </tr>\n",
       "    <tr>\n",
       "      <th>4990</th>\n",
       "      <td>4,991st</td>\n",
       "      <td>B+</td>\n",
       "      <td>Ho Ngoc Ha's Official Channel</td>\n",
       "      <td>208.0</td>\n",
       "      <td>NaN</td>\n",
       "      <td>127185704</td>\n",
       "    </tr>\n",
       "  </tbody>\n",
       "</table>\n",
       "<p>387 rows × 6 columns</p>\n",
       "</div>"
      ],
      "text/plain": [
       "         Rank Grade                   Channel name  Video Uploads  \\\n",
       "17       18th   A+                 Vlad and Nikita           53.0   \n",
       "108     109th    A                          BIGFUN          373.0   \n",
       "115     116th    A    Bee Kids Games - Children TV          740.0   \n",
       "142     143rd    A             ChiChi TV Siêu Nhân          421.0   \n",
       "143     144th    A                  MusicTalentNow         1487.0   \n",
       "...       ...   ...                            ...            ...   \n",
       "4941  4,942nd   B+                            GMTV          183.0   \n",
       "4948  4,949th   B+               Keivon ToysReview          468.0   \n",
       "4956  4,957th   B+                       CLICKNEWS         2661.0   \n",
       "4961  4,962nd   B+                ONE Championship          905.0   \n",
       "4990  4,991st   B+   Ho Ngoc Ha's Official Channel          208.0   \n",
       "\n",
       "      Subscribers  Video views  \n",
       "17            NaN   1428274554  \n",
       "108           NaN    941376171  \n",
       "115           NaN    414535723  \n",
       "142           NaN   2600394871  \n",
       "143           NaN   3252752212  \n",
       "...           ...          ...  \n",
       "4941          NaN    127080542  \n",
       "4948          NaN    481568513  \n",
       "4956          NaN    139940815  \n",
       "4961          NaN    109836654  \n",
       "4990          NaN    127185704  \n",
       "\n",
       "[387 rows x 6 columns]"
      ]
     },
     "execution_count": 12,
     "metadata": {},
     "output_type": "execute_result"
    }
   ],
   "source": [
    "df[df['Subscribers'].isnull()] #Subscribers null columns and rows of \"Subscribers\""
   ]
  },
  {
   "cell_type": "code",
   "execution_count": 13,
   "id": "66121427-767c-4c4f-bb62-2a9327234a58",
   "metadata": {},
   "outputs": [],
   "source": [
    "df['Subscribers'] = df['Subscribers'].fillna(0) #filling null values with 0"
   ]
  },
  {
   "cell_type": "code",
   "execution_count": 14,
   "id": "0ef92dc3-71fc-41ab-a8a0-89fe9197e881",
   "metadata": {},
   "outputs": [
    {
     "data": {
      "text/plain": [
       "Rank             0\n",
       "Grade            0\n",
       "Channel name     0\n",
       "Video Uploads    0\n",
       "Subscribers      0\n",
       "Video views      0\n",
       "dtype: int64"
      ]
     },
     "execution_count": 14,
     "metadata": {},
     "output_type": "execute_result"
    }
   ],
   "source": [
    "df.isnull().sum() #checking null vallues"
   ]
  },
  {
   "cell_type": "code",
   "execution_count": 15,
   "id": "5975e595-3d37-4726-ac55-32fa7d9b39c2",
   "metadata": {},
   "outputs": [
    {
     "data": {
      "text/html": [
       "<div>\n",
       "<style scoped>\n",
       "    .dataframe tbody tr th:only-of-type {\n",
       "        vertical-align: middle;\n",
       "    }\n",
       "\n",
       "    .dataframe tbody tr th {\n",
       "        vertical-align: top;\n",
       "    }\n",
       "\n",
       "    .dataframe thead th {\n",
       "        text-align: right;\n",
       "    }\n",
       "</style>\n",
       "<table border=\"1\" class=\"dataframe\">\n",
       "  <thead>\n",
       "    <tr style=\"text-align: right;\">\n",
       "      <th></th>\n",
       "      <th>Rank</th>\n",
       "      <th>Grade</th>\n",
       "      <th>Channel name</th>\n",
       "      <th>Video Uploads</th>\n",
       "      <th>Subscribers</th>\n",
       "      <th>Video views</th>\n",
       "    </tr>\n",
       "  </thead>\n",
       "  <tbody>\n",
       "    <tr>\n",
       "      <th>1014</th>\n",
       "      <td>1,015th</td>\n",
       "      <td>A</td>\n",
       "      <td>Netflix India</td>\n",
       "      <td>450.0</td>\n",
       "      <td>1200373.0</td>\n",
       "      <td>80348959</td>\n",
       "    </tr>\n",
       "    <tr>\n",
       "      <th>4982</th>\n",
       "      <td>4,983rd</td>\n",
       "      <td>B+</td>\n",
       "      <td>채널A Home</td>\n",
       "      <td>9876.0</td>\n",
       "      <td>647435.0</td>\n",
       "      <td>827849271</td>\n",
       "    </tr>\n",
       "    <tr>\n",
       "      <th>13</th>\n",
       "      <td>14th</td>\n",
       "      <td>A+</td>\n",
       "      <td>Ozuna</td>\n",
       "      <td>50.0</td>\n",
       "      <td>18824912.0</td>\n",
       "      <td>8727783225</td>\n",
       "    </tr>\n",
       "    <tr>\n",
       "      <th>912</th>\n",
       "      <td>913th</td>\n",
       "      <td>A</td>\n",
       "      <td>TheRichest</td>\n",
       "      <td>2558.0</td>\n",
       "      <td>11804909.0</td>\n",
       "      <td>5866949648</td>\n",
       "    </tr>\n",
       "    <tr>\n",
       "      <th>36</th>\n",
       "      <td>37th</td>\n",
       "      <td>A+</td>\n",
       "      <td>Goldmines Telefilms</td>\n",
       "      <td>206.0</td>\n",
       "      <td>14011180.0</td>\n",
       "      <td>555853544</td>\n",
       "    </tr>\n",
       "  </tbody>\n",
       "</table>\n",
       "</div>"
      ],
      "text/plain": [
       "         Rank Grade         Channel name  Video Uploads  Subscribers  \\\n",
       "1014  1,015th    A         Netflix India          450.0    1200373.0   \n",
       "4982  4,983rd   B+              채널A Home         9876.0     647435.0   \n",
       "13       14th   A+                 Ozuna           50.0   18824912.0   \n",
       "912     913th    A            TheRichest         2558.0   11804909.0   \n",
       "36       37th   A+   Goldmines Telefilms          206.0   14011180.0   \n",
       "\n",
       "      Video views  \n",
       "1014     80348959  \n",
       "4982    827849271  \n",
       "13     8727783225  \n",
       "912    5866949648  \n",
       "36      555853544  "
      ]
     },
     "execution_count": 15,
     "metadata": {},
     "output_type": "execute_result"
    }
   ],
   "source": [
    "df.sample(5) #Checking 5 random values"
   ]
  },
  {
   "cell_type": "code",
   "execution_count": 16,
   "id": "326d347d-40e5-4469-9662-3f950765740d",
   "metadata": {},
   "outputs": [
    {
     "data": {
      "text/plain": [
       "Rank               int64\n",
       "Grade             object\n",
       "Channel name      object\n",
       "Video Uploads    float64\n",
       "Subscribers      float64\n",
       "Video views        int64\n",
       "dtype: object"
      ]
     },
     "execution_count": 16,
     "metadata": {},
     "output_type": "execute_result"
    }
   ],
   "source": [
    "#Converting rank objecct to integer\n",
    "df['Rank'] = df['Rank'].str.replace(',','') #replacing  \n",
    "df['Rank'] = df['Rank'].str[0:-2] #removing last two alphabet\n",
    "df['Rank'] = pd.to_numeric(df['Rank'], errors='coerce') #Converting string to integer\n",
    "df.dtypes #Checking data types of the columns"
   ]
  },
  {
   "cell_type": "code",
   "execution_count": 17,
   "id": "c66234da-8152-40e1-a98d-d61273f6484a",
   "metadata": {},
   "outputs": [
    {
     "data": {
      "text/html": [
       "<div>\n",
       "<style scoped>\n",
       "    .dataframe tbody tr th:only-of-type {\n",
       "        vertical-align: middle;\n",
       "    }\n",
       "\n",
       "    .dataframe tbody tr th {\n",
       "        vertical-align: top;\n",
       "    }\n",
       "\n",
       "    .dataframe thead th {\n",
       "        text-align: right;\n",
       "    }\n",
       "</style>\n",
       "<table border=\"1\" class=\"dataframe\">\n",
       "  <thead>\n",
       "    <tr style=\"text-align: right;\">\n",
       "      <th></th>\n",
       "      <th>Rank</th>\n",
       "      <th>Video Uploads</th>\n",
       "      <th>Subscribers</th>\n",
       "      <th>Video views</th>\n",
       "    </tr>\n",
       "  </thead>\n",
       "  <tbody>\n",
       "    <tr>\n",
       "      <th>count</th>\n",
       "      <td>5000.000000</td>\n",
       "      <td>5000.000000</td>\n",
       "      <td>5.000000e+03</td>\n",
       "      <td>5.000000e+03</td>\n",
       "    </tr>\n",
       "    <tr>\n",
       "      <th>mean</th>\n",
       "      <td>2500.500000</td>\n",
       "      <td>3854.832200</td>\n",
       "      <td>2.417216e+06</td>\n",
       "      <td>1.071449e+09</td>\n",
       "    </tr>\n",
       "    <tr>\n",
       "      <th>std</th>\n",
       "      <td>1443.520003</td>\n",
       "      <td>17076.132712</td>\n",
       "      <td>3.835852e+06</td>\n",
       "      <td>2.003844e+09</td>\n",
       "    </tr>\n",
       "    <tr>\n",
       "      <th>min</th>\n",
       "      <td>1.000000</td>\n",
       "      <td>0.000000</td>\n",
       "      <td>0.000000e+00</td>\n",
       "      <td>7.500000e+01</td>\n",
       "    </tr>\n",
       "    <tr>\n",
       "      <th>25%</th>\n",
       "      <td>1250.750000</td>\n",
       "      <td>140.000000</td>\n",
       "      <td>4.579178e+05</td>\n",
       "      <td>1.862329e+08</td>\n",
       "    </tr>\n",
       "    <tr>\n",
       "      <th>50%</th>\n",
       "      <td>2500.500000</td>\n",
       "      <td>441.000000</td>\n",
       "      <td>1.204652e+06</td>\n",
       "      <td>4.820548e+08</td>\n",
       "    </tr>\n",
       "    <tr>\n",
       "      <th>75%</th>\n",
       "      <td>3750.250000</td>\n",
       "      <td>1500.250000</td>\n",
       "      <td>2.723182e+06</td>\n",
       "      <td>1.124368e+09</td>\n",
       "    </tr>\n",
       "    <tr>\n",
       "      <th>max</th>\n",
       "      <td>5000.000000</td>\n",
       "      <td>422326.000000</td>\n",
       "      <td>6.599531e+07</td>\n",
       "      <td>4.754884e+10</td>\n",
       "    </tr>\n",
       "  </tbody>\n",
       "</table>\n",
       "</div>"
      ],
      "text/plain": [
       "              Rank  Video Uploads   Subscribers   Video views\n",
       "count  5000.000000    5000.000000  5.000000e+03  5.000000e+03\n",
       "mean   2500.500000    3854.832200  2.417216e+06  1.071449e+09\n",
       "std    1443.520003   17076.132712  3.835852e+06  2.003844e+09\n",
       "min       1.000000       0.000000  0.000000e+00  7.500000e+01\n",
       "25%    1250.750000     140.000000  4.579178e+05  1.862329e+08\n",
       "50%    2500.500000     441.000000  1.204652e+06  4.820548e+08\n",
       "75%    3750.250000    1500.250000  2.723182e+06  1.124368e+09\n",
       "max    5000.000000  422326.000000  6.599531e+07  4.754884e+10"
      ]
     },
     "execution_count": 17,
     "metadata": {},
     "output_type": "execute_result"
    }
   ],
   "source": [
    "df.describe() #Checking statistics"
   ]
  },
  {
   "cell_type": "code",
   "execution_count": 18,
   "id": "b5280c50-eb8b-47f0-acea-2b0a4926852d",
   "metadata": {},
   "outputs": [
    {
     "data": {
      "text/html": [
       "<div>\n",
       "<style scoped>\n",
       "    .dataframe tbody tr th:only-of-type {\n",
       "        vertical-align: middle;\n",
       "    }\n",
       "\n",
       "    .dataframe tbody tr th {\n",
       "        vertical-align: top;\n",
       "    }\n",
       "\n",
       "    .dataframe thead th {\n",
       "        text-align: right;\n",
       "    }\n",
       "</style>\n",
       "<table border=\"1\" class=\"dataframe\">\n",
       "  <thead>\n",
       "    <tr style=\"text-align: right;\">\n",
       "      <th></th>\n",
       "      <th>Grade</th>\n",
       "      <th>Channel name</th>\n",
       "    </tr>\n",
       "  </thead>\n",
       "  <tbody>\n",
       "    <tr>\n",
       "      <th>count</th>\n",
       "      <td>5000</td>\n",
       "      <td>5000</td>\n",
       "    </tr>\n",
       "    <tr>\n",
       "      <th>unique</th>\n",
       "      <td>6</td>\n",
       "      <td>4993</td>\n",
       "    </tr>\n",
       "    <tr>\n",
       "      <th>top</th>\n",
       "      <td>B+</td>\n",
       "      <td>Learn Colors For Kids</td>\n",
       "    </tr>\n",
       "    <tr>\n",
       "      <th>freq</th>\n",
       "      <td>2956</td>\n",
       "      <td>2</td>\n",
       "    </tr>\n",
       "  </tbody>\n",
       "</table>\n",
       "</div>"
      ],
      "text/plain": [
       "       Grade           Channel name\n",
       "count   5000                   5000\n",
       "unique     6                   4993\n",
       "top      B+   Learn Colors For Kids\n",
       "freq    2956                      2"
      ]
     },
     "execution_count": 18,
     "metadata": {},
     "output_type": "execute_result"
    }
   ],
   "source": [
    "df.describe(include='object') "
   ]
  },
  {
   "cell_type": "code",
   "execution_count": 19,
   "id": "a5bc339e-2ee8-4da1-8d50-ed988e37c0e1",
   "metadata": {},
   "outputs": [
    {
     "data": {
      "image/png": "[encoded data removed]",
      "text/plain": [
       "<Figure size 640x480 with 1 Axes>"
      ]
     },
     "metadata": {},
     "output_type": "display_data"
    },
    {
     "data": {
      "image/png": "[encoded data removed]",
      "text/plain": [
       "<Figure size 640x480 with 1 Axes>"
      ]
     },
     "metadata": {},
     "output_type": "display_data"
    },
    {
     "data": {
      "image/png": "[encoded data removed]",
      "text/plain": [
       "<Figure size 640x480 with 1 Axes>"
      ]
     },
     "metadata": {},
     "output_type": "display_data"
    },
    {
     "data": {
      "image/png": "[encoded data removed]",
      "text/plain": [
       "<Figure size 640x480 with 1 Axes>"
      ]
     },
     "metadata": {},
     "output_type": "display_data"
    }
   ],
   "source": [
    "for i in df.describe().columns: #Creating box plot\n",
    "    plt.title(f'Box plot for df[i]') #Title\n",
    "    sns.boxplot(df[i]) #boxplot\n",
    "    plt.show() "
   ]
  },
  {
   "cell_type": "code",
   "execution_count": 20,
   "id": "e8f41608-dfc4-4d8a-8d7d-19d469ce3505",
   "metadata": {},
   "outputs": [],
   "source": [
    "numeric_columns = df.select_dtypes(include=[np.number]) #Selecting numeric columns"
   ]
  },
  {
   "cell_type": "code",
   "execution_count": 21,
   "id": "7dc35685-4336-4e77-af02-671ceb385ae1",
   "metadata": {},
   "outputs": [
    {
     "data": {
      "image/png": "[encoded data removed]",
      "text/plain": [
       "<Figure size 640x480 with 2 Axes>"
      ]
     },
     "metadata": {},
     "output_type": "display_data"
    }
   ],
   "source": [
    "plt.title('heatmap')\n",
    "sns.heatmap(numeric_columns.corr(),annot=True, cmap='coolwarm')\n",
    "plt.show()"
   ]
  },
  {
   "cell_type": "code",
   "execution_count": 22,
   "id": "4906b7f7-dafb-4ce4-af87-8a16ac4fb576",
   "metadata": {},
   "outputs": [
    {
     "data": {
      "text/plain": [
       "Index(['Rank', 'Grade', 'Channel name', 'Video Uploads', 'Subscribers',\n",
       "       'Video views'],\n",
       "      dtype='object')"
      ]
     },
     "execution_count": 22,
     "metadata": {},
     "output_type": "execute_result"
    }
   ],
   "source": [
    "df.columns"
   ]
  },
  {
   "cell_type": "code",
   "execution_count": 23,
   "id": "d266ae78-e810-4b7c-931a-1cbdf29ff903",
   "metadata": {},
   "outputs": [
    {
     "data": {
      "text/plain": [
       "Grade\n",
       "B+      2956\n",
       "A-      1024\n",
       "A        963\n",
       "A+        41\n",
       "A++       10\n",
       "           6\n",
       "Name: count, dtype: int64"
      ]
     },
     "execution_count": 23,
     "metadata": {},
     "output_type": "execute_result"
    }
   ],
   "source": [
    "df['Grade'].value_counts() #Grade Count"
   ]
  },
  {
   "cell_type": "code",
   "execution_count": 24,
   "id": "c94c9b63-ce3b-4e2b-ad57-5333db5ba7c6",
   "metadata": {},
   "outputs": [
    {
     "data": {
      "image/png": "[encoded data removed]",
      "text/plain": [
       "<Figure size 640x480 with 1 Axes>"
      ]
     },
     "metadata": {},
     "output_type": "display_data"
    }
   ],
   "source": [
    "plt.title('Grade Count Plot')\n",
    "ax = sns.countplot(data = df, x = 'Grade')\n",
    "ax.bar_label(ax.containers[0])\n",
    "plt.show()"
   ]
  },
  {
   "cell_type": "markdown",
   "id": "b800c480-9068-4227-bec1-ea152460c67e",
   "metadata": {},
   "source": [
    "### Count of Grade B+ is most"
   ]
  },
  {
   "cell_type": "code",
   "execution_count": 25,
   "id": "5060e9ca-5eb5-4125-b7a4-c6e3b4ceeaa1",
   "metadata": {},
   "outputs": [
    {
     "data": {
      "image/png": "[encoded data removed]",
      "text/plain": [
       "<Figure size 640x480 with 1 Axes>"
      ]
     },
     "metadata": {},
     "output_type": "display_data"
    }
   ],
   "source": [
    "df.groupby('Grade')[['Subscribers']].mean().sort_values(by = 'Subscribers').plot(kind = 'barh')\n",
    "plt.show()"
   ]
  },
  {
   "cell_type": "markdown",
   "id": "a1c20083-19af-45c1-9478-a858817dcaf6",
   "metadata": {},
   "source": [
    "### Subscriber of A++ is heghest"
   ]
  },
  {
   "cell_type": "code",
   "execution_count": 26,
   "id": "170792e6-3429-4143-bf47-11f0b0733d7e",
   "metadata": {},
   "outputs": [
    {
     "data": {
      "image/png": "[encoded data removed]",
      "text/plain": [
       "<Figure size 640x480 with 1 Axes>"
      ]
     },
     "metadata": {},
     "output_type": "display_data"
    }
   ],
   "source": [
    "plt.title('Video View VS Grade')\n",
    "sns.barplot(data = df, x = 'Grade',y= 'Video views')\n",
    "plt.show()"
   ]
  },
  {
   "cell_type": "markdown",
   "id": "a8c2facd-ae33-4dea-9e71-30a55eaef0ab",
   "metadata": {},
   "source": [
    "### Grade wise A++ is having heshest Video View"
   ]
  },
  {
   "cell_type": "code",
   "execution_count": 27,
   "id": "92d5cd67-1d14-4466-afd8-c9dad495f2e3",
   "metadata": {},
   "outputs": [
    {
     "data": {
      "image/png": "[encoded data removed]",
      "text/plain": [
       "<Figure size 640x480 with 1 Axes>"
      ]
     },
     "metadata": {},
     "output_type": "display_data"
    }
   ],
   "source": [
    "plt.title('Subscribers VS Grade')\n",
    "plt.bar(df['Grade'], df['Subscribers'])\n",
    "plt.show()"
   ]
  },
  {
   "cell_type": "markdown",
   "id": "e649667b-ad05-413f-98df-c232dd2df080",
   "metadata": {},
   "source": [
    "### Grade wise A- having highest Subscribers "
   ]
  },
  {
   "cell_type": "code",
   "execution_count": 28,
   "id": "d7cc6ae0-d05d-4075-a5b2-882ed79951e6",
   "metadata": {},
   "outputs": [
    {
     "data": {
      "image/png": "[encoded data removed]",
      "text/plain": [
       "<Figure size 640x480 with 1 Axes>"
      ]
     },
     "metadata": {},
     "output_type": "display_data"
    }
   ],
   "source": [
    "plt.title('Video Uploads VS Grade')\n",
    "plt.bar(df['Grade'], df['Video Uploads'])\n",
    "plt.show()"
   ]
  },
  {
   "cell_type": "markdown",
   "id": "b8f0a08a-4105-4711-8d6b-c64ea3216f2a",
   "metadata": {},
   "source": [
    "### Grade wise B+ having highest uploaded video"
   ]
  }
 ],
 "metadata": {
  "kernelspec": {
   "display_name": "Python 3 (ipykernel)",
   "language": "python",
   "name": "python3"
  },
  "language_info": {
   "codemirror_mode": {
    "name": "ipython",
    "version": 3
   },
   "file_extension": ".py",
   "mimetype": "text/x-python",
   "name": "python",
   "nbconvert_exporter": "python",
   "pygments_lexer": "ipython3",
   "version": "3.13.0"
  }
 },
 "nbformat": 4,
 "nbformat_minor": 5
}
